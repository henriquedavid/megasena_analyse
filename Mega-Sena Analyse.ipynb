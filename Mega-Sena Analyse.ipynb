{
 "cells": [
  {
   "cell_type": "markdown",
   "metadata": {},
   "source": [
    "# Mega-Sena Analyse"
   ]
  },
  {
   "cell_type": "markdown",
   "metadata": {},
   "source": [
    "A Mega-Sena é uma das maiores modalidades de jogos de loteria do Brasil. O sorteio é realizado pelo menos duas vezes na semana,\n",
    "além de haver o prêmio principal, o qual o apostador que acertar 6 (seis) números pode levar para casa milhões de reais, o apostador ainda pode receber quantias menores, acertando 4 (quatro) ou 5 (cinco) dezenas.\n",
    "\n",
    "Os números da aposta, chamado popularmente de jogo, pode ser formado tanto pelo jogador, quanto por um sistema, o qual gera números aleatórios, chamado de \"Surpresinha\".\n",
    "\n",
    "O prêmio corresponde a 45,3% da arrecadação do sorteio. Dessa porcentagem ocorre a seguinte distribuição:\n",
    "                - 35% são distribuídos entre o(s) acertador(es) da Sena, \n",
    "                - 19% da Quina e\n",
    "                - 19% da Quadra,\n",
    "                - 22% são distribuídos nos concursos de final 0 e 5,\n",
    "                - 5% para os últimos concursos do ano de final 0 ou 5, \n",
    "                - e outra parte do valor é repassado para o Governo Federal.\n",
    "                \n",
    "Caso não haja vencedor, o prêmio é acumulado para o próximo sorteio. Enquanto caso haja vencedor e não ele busque o valor em 90 dias do sorteio, o valor é repassado ao tesouro nacional para aplicação no FIES - Fundo de Financiamento ao Estudante do Ensino Superior.\n",
    "\n",
    "A seguir analisemos os dados da Mega-Sena, de 03/1996 a 03/2018.\n",
    "\n",
    "Os dados são apresentados com as seguintes colunas:\n",
    "    1. id\n",
    "    2. Concurso\n",
    "    3. Dezena1\n",
    "    4. Dezena2\n",
    "    5. Dezena3\n",
    "    6. Dezena4\n",
    "    7. Dezena5\n",
    "    8. Dezena6\n",
    "    9. Arrecadação Total\n",
    "    10. Ganhadores da Sena\n",
    "    11. Rateio da Sena\n",
    "    12. Ganhadores da Quina\n",
    "    13. Rateio da Quina\n",
    "    14. Ganhadores da Quadra\n",
    "    15. Rateio da Quadra\n",
    "    16. Acumulação\n",
    "    17. Valor Acumulado\n",
    "    18. Estimativa do Prêmio\n",
    "    \n",
    "A seguir é apresentada uma tabela com os 5 primeiros concursos realizados."
   ]
  },
  {
   "cell_type": "code",
   "execution_count": 3,
   "metadata": {},
   "outputs": [
    {
     "name": "stdout",
     "output_type": "stream",
     "text": [
      "['MegaSena']\n"
     ]
    },
    {
     "data": {
      "text/html": [
       "<div>\n",
       "<style scoped>\n",
       "    .dataframe tbody tr th:only-of-type {\n",
       "        vertical-align: middle;\n",
       "    }\n",
       "\n",
       "    .dataframe tbody tr th {\n",
       "        vertical-align: top;\n",
       "    }\n",
       "\n",
       "    .dataframe thead th {\n",
       "        text-align: right;\n",
       "    }\n",
       "</style>\n",
       "<table border=\"1\" class=\"dataframe\">\n",
       "  <thead>\n",
       "    <tr style=\"text-align: right;\">\n",
       "      <th></th>\n",
       "      <th>Concurso</th>\n",
       "      <th>Data Sorteio</th>\n",
       "      <th>Dezena1</th>\n",
       "      <th>Dezena2</th>\n",
       "      <th>Dezena3</th>\n",
       "      <th>Dezena4</th>\n",
       "      <th>Dezena5</th>\n",
       "      <th>Dezena6</th>\n",
       "      <th>Arrecadacao_Total</th>\n",
       "      <th>Ganhadores_Sena</th>\n",
       "      <th>Rateio_Sena</th>\n",
       "      <th>Ganhadores_Quina</th>\n",
       "      <th>Rateio_Quina</th>\n",
       "      <th>Ganhadores_Quadra</th>\n",
       "      <th>Rateio_Quadra</th>\n",
       "      <th>Acumulado</th>\n",
       "      <th>Valor_Acumulado</th>\n",
       "      <th>Estimativa_Prêmio</th>\n",
       "    </tr>\n",
       "  </thead>\n",
       "  <tbody>\n",
       "    <tr>\n",
       "      <th>0</th>\n",
       "      <td>1</td>\n",
       "      <td>1996-03-11</td>\n",
       "      <td>41</td>\n",
       "      <td>5</td>\n",
       "      <td>4</td>\n",
       "      <td>52</td>\n",
       "      <td>30</td>\n",
       "      <td>33</td>\n",
       "      <td>0.0</td>\n",
       "      <td>0</td>\n",
       "      <td>0.00</td>\n",
       "      <td>17</td>\n",
       "      <td>39158.92</td>\n",
       "      <td>2016</td>\n",
       "      <td>330.21</td>\n",
       "      <td>SIM</td>\n",
       "      <td>1714650.23</td>\n",
       "      <td>0</td>\n",
       "    </tr>\n",
       "    <tr>\n",
       "      <th>1</th>\n",
       "      <td>2</td>\n",
       "      <td>1996-03-18</td>\n",
       "      <td>9</td>\n",
       "      <td>39</td>\n",
       "      <td>37</td>\n",
       "      <td>49</td>\n",
       "      <td>43</td>\n",
       "      <td>41</td>\n",
       "      <td>0.0</td>\n",
       "      <td>1</td>\n",
       "      <td>2307162.23</td>\n",
       "      <td>65</td>\n",
       "      <td>14424.02</td>\n",
       "      <td>4488</td>\n",
       "      <td>208.91</td>\n",
       "      <td>NÃO</td>\n",
       "      <td>0.00</td>\n",
       "      <td>0</td>\n",
       "    </tr>\n",
       "    <tr>\n",
       "      <th>2</th>\n",
       "      <td>3</td>\n",
       "      <td>1996-03-25</td>\n",
       "      <td>36</td>\n",
       "      <td>30</td>\n",
       "      <td>10</td>\n",
       "      <td>11</td>\n",
       "      <td>29</td>\n",
       "      <td>47</td>\n",
       "      <td>0.0</td>\n",
       "      <td>2</td>\n",
       "      <td>391192.51</td>\n",
       "      <td>62</td>\n",
       "      <td>10515.93</td>\n",
       "      <td>4261</td>\n",
       "      <td>153.01</td>\n",
       "      <td>NÃO</td>\n",
       "      <td>0.00</td>\n",
       "      <td>0</td>\n",
       "    </tr>\n",
       "    <tr>\n",
       "      <th>3</th>\n",
       "      <td>4</td>\n",
       "      <td>1996-04-01</td>\n",
       "      <td>6</td>\n",
       "      <td>59</td>\n",
       "      <td>42</td>\n",
       "      <td>27</td>\n",
       "      <td>1</td>\n",
       "      <td>5</td>\n",
       "      <td>0.0</td>\n",
       "      <td>0</td>\n",
       "      <td>0.00</td>\n",
       "      <td>39</td>\n",
       "      <td>15322.24</td>\n",
       "      <td>3311</td>\n",
       "      <td>180.48</td>\n",
       "      <td>SIM</td>\n",
       "      <td>717080.75</td>\n",
       "      <td>0</td>\n",
       "    </tr>\n",
       "    <tr>\n",
       "      <th>4</th>\n",
       "      <td>5</td>\n",
       "      <td>1996-04-08</td>\n",
       "      <td>1</td>\n",
       "      <td>19</td>\n",
       "      <td>46</td>\n",
       "      <td>6</td>\n",
       "      <td>16</td>\n",
       "      <td>2</td>\n",
       "      <td>0.0</td>\n",
       "      <td>0</td>\n",
       "      <td>0.00</td>\n",
       "      <td>98</td>\n",
       "      <td>5318.10</td>\n",
       "      <td>5399</td>\n",
       "      <td>96.53</td>\n",
       "      <td>SIM</td>\n",
       "      <td>1342488.85</td>\n",
       "      <td>0</td>\n",
       "    </tr>\n",
       "  </tbody>\n",
       "</table>\n",
       "</div>"
      ],
      "text/plain": [
       "   Concurso Data Sorteio  Dezena1  Dezena2  Dezena3  Dezena4  Dezena5  \\\n",
       "0         1   1996-03-11       41        5        4       52       30   \n",
       "1         2   1996-03-18        9       39       37       49       43   \n",
       "2         3   1996-03-25       36       30       10       11       29   \n",
       "3         4   1996-04-01        6       59       42       27        1   \n",
       "4         5   1996-04-08        1       19       46        6       16   \n",
       "\n",
       "   Dezena6  Arrecadacao_Total  Ganhadores_Sena  Rateio_Sena  Ganhadores_Quina  \\\n",
       "0       33                0.0                0         0.00                17   \n",
       "1       41                0.0                1   2307162.23                65   \n",
       "2       47                0.0                2    391192.51                62   \n",
       "3        5                0.0                0         0.00                39   \n",
       "4        2                0.0                0         0.00                98   \n",
       "\n",
       "   Rateio_Quina  Ganhadores_Quadra  Rateio_Quadra Acumulado  Valor_Acumulado  \\\n",
       "0      39158.92               2016         330.21       SIM       1714650.23   \n",
       "1      14424.02               4488         208.91       NÃO             0.00   \n",
       "2      10515.93               4261         153.01       NÃO             0.00   \n",
       "3      15322.24               3311         180.48       SIM        717080.75   \n",
       "4       5318.10               5399          96.53       SIM       1342488.85   \n",
       "\n",
       "   Estimativa_Prêmio  \n",
       "0                  0  \n",
       "1                  0  \n",
       "2                  0  \n",
       "3                  0  \n",
       "4                  0  "
      ]
     },
     "execution_count": 3,
     "metadata": {},
     "output_type": "execute_result"
    }
   ],
   "source": [
    "import pandas as pd\n",
    "import matplotlib.pyplot as plt\n",
    "arquivo = 'basedados.xlsx'\n",
    "excel = pd.ExcelFile(arquivo)\n",
    "print(excel.sheet_names)\n",
    "dados = excel.parse(0)\n",
    "dados.head()"
   ]
  },
  {
   "cell_type": "code",
   "execution_count": 74,
   "metadata": {
    "scrolled": true
   },
   "outputs": [
    {
     "data": {
      "image/png": "[encoded data removed]",
      "text/plain": [
       "<matplotlib.figure.Figure at 0x20f3e19e9b0>"
      ]
     },
     "metadata": {},
     "output_type": "display_data"
    }
   ],
   "source": [
    "%matplotlib inline\n",
    "cols = ['Data Sorteio', 'Ganhadores_Sena', 'Ganhadores_Quina', 'Ganhadores_Quadra']\n",
    "ganhadores_pano = dados[cols]\n",
    "\n",
    "cols1 = ['Data Sorteio', 'Rateio_Sena', 'Rateio_Quina', 'Rateio_Quadra']\n",
    "rateios = dados[cols1]\n",
    "\n",
    "fig, axes = plt.subplots(nrows=1, ncols=2, sharex=True);\n",
    "\n",
    "axes[0].plot(ganhadores_pano['Data Sorteio'], ganhadores_pano['Ganhadores_Sena'], c='black', label= 'Sena')\n",
    "axes[0].plot(ganhadores_pano['Data Sorteio'], ganhadores_pano['Ganhadores_Quina'], c='red', label= 'Quina' )\n",
    "axes[0].plot(ganhadores_pano['Data Sorteio'], ganhadores_pano['Ganhadores_Quadra'], c='grey', label= 'Quadra' )\n",
    "axes[0].legend(loc='upper left')\n",
    "axes[0].set_xlabel('Anos');\n",
    "axes[0].set_ylabel('Ganhadores');\n",
    "\n",
    "plt.title('Quantidade de Ganhadores por Data do Sorteio')\n",
    "\n",
    "axes[1].plot( ganhadores_pano['Data Sorteio'], ganhadores_pano['Ganhadores_Sena'], c='black', label= 'Sena' )\n",
    "axes[1].plot( ganhadores_pano['Data Sorteio'], ganhadores_pano['Ganhadores_Quina'], c='red', label= 'Quina' )\n",
    "axes[1].legend(loc='upper left')\n",
    "axes[1].set_xlabel('Anos');\n",
    "axes[1].set_ylabel('Ganhadores');\n",
    "\n",
    "plt.subplots_adjust( wspace = 0.5 , left = 0.01)\n",
    "\n"
   ]
  },
  {
   "cell_type": "markdown",
   "metadata": {},
   "source": [
    "No gráfico, Quantidade de Ganhadores por Tipo de Sorteio, a esquerda é possível comparar os tipos de modalidades de sorteio em quantidade de ganhadores por ano. Claramente é possível perceber que para uma pessoa ser ganhadora na *Quadra* é muito mais fácil do que na *Sena* e na *Quina* atualmente. Enquanto na direita é possível perceber que entre a *Sena* e a *Quina*, a quantidade de vencedores ainda é bem superior a *Sena* com o passar dos anos.\n",
    "\n",
    "Suponha que um cientista descobriu a viagem no tempo e foi atrás de um analista de dados para saber qual foi o ano que teve mais ganhadores na Quina, pois ele queria jogar durante o ano todos os jogos, já que ele achava a Sena muito difícil. Então, o analista dise que ele deveria voltar para 2017, porque foi o ano em que teve maior número de ganhadores, o qual ele poderia ser um deles. E o cientista não precisava se garantir apenas na Quina já que no mesmo período, a Quadra se mostrava com a maior quantidade de jogadores dos 3 sorteios possíveis. \n",
    "\n",
    "Além da quantidade de ganhadores, é possível analisar que durante o período de 2002 e 2010, tanto a Quina quanto a Quarta apresentaram queda na quantidade de ganhadores."
   ]
  },
  {
   "cell_type": "code",
   "execution_count": 78,
   "metadata": {},
   "outputs": [
    {
     "name": "stderr",
     "output_type": "stream",
     "text": [
      "C:\\Users\\Henrique\\Anaconda3\\lib\\site-packages\\pandas\\plotting\\_core.py:1716: UserWarning: Pandas doesn't allow columns to be created via a new attribute name - see https://pandas.pydata.org/pandas-docs/stable/indexing.html#attribute-access\n",
      "  series.name = label\n"
     ]
    },
    {
     "data": {
      "text/plain": [
       "<matplotlib.legend.Legend at 0x20f40f75278>"
      ]
     },
     "execution_count": 78,
     "metadata": {},
     "output_type": "execute_result"
    },
    {
     "data": {
      "image/png": "[encoded data removed]",
      "text/plain": [
       "<matplotlib.figure.Figure at 0x20f40fd7d30>"
      ]
     },
     "metadata": {},
     "output_type": "display_data"
    }
   ],
   "source": [
    "%matplotlib inline\n",
    "rateios.plot(kind='line',x='Data Sorteio',y=['Rateio_Sena', 'Rateio_Quina', 'Rateio_Quadra'], title='Rateios dos Sorteios', color=['yellow','green', 'blue']).\\\n",
    "            legend(loc='best',labels=['Sena','Quina','Quadra'])"
   ]
  },
  {
   "cell_type": "markdown",
   "metadata": {},
   "source": [
    "A Mega-Sena é o sorteio com maior valor de rasteio em comparação com a Quina e a Quadra como é possível analisar pelo gráfico gerado acima. É possível analisar que o rasteio vem crescendo a cada ano, porém a partir de 2011 a Sena começou a apresentar rasteio máximo aproximadamente constantes em comparações com os anos posteriores e que em 2016 foi o ano em que a Mega-Sena obteve o maior valor de rasteio, no qual, caso realizemos a média dos valores dos períodos de 2011 em diante, o ano de 2016 irá contribuir com o aumento da média, não retratanto bem o valor de rasteio médio da Sena."
   ]
  },
  {
   "cell_type": "code",
   "execution_count": null,
   "metadata": {},
   "outputs": [],
   "source": []
  }
 ],
 "metadata": {
  "kernelspec": {
   "display_name": "Python 3",
   "language": "python",
   "name": "python3"
  },
  "language_info": {
   "codemirror_mode": {
    "name": "ipython",
    "version": 3
   },
   "file_extension": ".py",
   "mimetype": "text/x-python",
   "name": "python",
   "nbconvert_exporter": "python",
   "pygments_lexer": "ipython3",
   "version": "3.6.4"
  }
 },
 "nbformat": 4,
 "nbformat_minor": 2
}
