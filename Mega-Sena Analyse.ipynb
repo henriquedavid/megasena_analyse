{
 "cells": [
  {
   "cell_type": "markdown",
   "metadata": {},
   "source": [
    "# Mega-Sena Analyse"
   ]
  },
  {
   "cell_type": "markdown",
   "metadata": {},
   "source": [
    "A Mega-Sena é uma das maiores modalidades de jogos de loteria do Brasil. O sorteio é realizado pelo menos duas vezes na semana,\n",
    "além de haver o prêmio principal, o qual o apostador que acertar 6 (seis) números pode levar para casa milhões de reais, o apostador ainda pode receber quantias menores, acertando 4 (quatro) ou 5 (cinco) dezenas.\n",
    "\n",
    "Os números da aposta, chamado popularmente de jogo, pode ser formado tanto pelo jogador, quanto por um sistema, o qual gera números aleatórios, chamado de \"Surpresinha\".\n",
    "\n",
    "O prêmio corresponde a 45,3% da arrecadação do sorteio. Dessa porcentagem ocorre a seguinte distribuição:\n",
    "                - 35% são distribuídos entre o(s) acertador(es) da Sena, \n",
    "                - 19% da Quina e\n",
    "                - 19% da Quadra,\n",
    "                - 22% são distribuídos nos concursos de final 0 e 5,\n",
    "                - 5% para os últimos concursos do ano de final 0 ou 5, \n",
    "                - e outra parte do valor é repassado para o Governo Federal.\n",
    "                \n",
    "Caso não haja vencedor, o prêmio é acumulado para o próximo sorteio. Enquanto caso haja vencedor e não ele busque o valor em 90 dias do sorteio, o valor é repassado ao tesouro nacional para aplicação no FIES - Fundo de Financiamento ao Estudante do Ensino Superior."
   ]
  },
  {
   "cell_type": "code",
   "execution_count": null,
   "metadata": {},
   "outputs": [],
   "source": []
  }
 ],
 "metadata": {
  "kernelspec": {
   "display_name": "Python 3",
   "language": "python",
   "name": "python3"
  },
  "language_info": {
   "codemirror_mode": {
    "name": "ipython",
    "version": 3
   },
   "file_extension": ".py",
   "mimetype": "text/x-python",
   "name": "python",
   "nbconvert_exporter": "python",
   "pygments_lexer": "ipython3",
   "version": "3.6.4"
  }
 },
 "nbformat": 4,
 "nbformat_minor": 2
}
